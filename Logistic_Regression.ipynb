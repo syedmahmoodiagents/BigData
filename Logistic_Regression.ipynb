{
  "cells": [
    {
      "cell_type": "markdown",
      "metadata": {
        "id": "view-in-github",
        "colab_type": "text"
      },
      "source": [
        "<a href=\"https://colab.research.google.com/github/syedmahmoodiagents/BigData/blob/main/Logistic_Regression.ipynb\" target=\"_parent\"><img src=\"https://colab.research.google.com/assets/colab-badge.svg\" alt=\"Open In Colab\"/></a>"
      ]
    },
    {
      "cell_type": "code",
      "execution_count": null,
      "metadata": {
        "id": "yhn5Hks1Mvvj"
      },
      "outputs": [],
      "source": [
        "# !pip install pyspark"
      ]
    },
    {
      "cell_type": "code",
      "execution_count": null,
      "metadata": {
        "id": "9tPsD8ygZoK3"
      },
      "outputs": [],
      "source": [
        "from pyspark.sql import SparkSession"
      ]
    },
    {
      "cell_type": "code",
      "execution_count": null,
      "metadata": {
        "id": "0OJUlue6c2_k"
      },
      "outputs": [],
      "source": [
        "from pyspark.ml.classification import LogisticRegression\n",
        "from pyspark.ml.feature import VectorAssembler\n",
        "from pyspark.ml.evaluation import MulticlassClassificationEvaluator\n",
        "from pyspark.ml import Pipeline"
      ]
    },
    {
      "cell_type": "code",
      "execution_count": null,
      "metadata": {
        "id": "eJzelX2bsv3b"
      },
      "outputs": [],
      "source": [
        "from pyspark.ml.torch.distributor import TorchDistributor"
      ]
    },
    {
      "cell_type": "code",
      "execution_count": null,
      "metadata": {
        "id": "ajwtys11cFjC"
      },
      "outputs": [],
      "source": [
        "from google.colab import files"
      ]
    },
    {
      "cell_type": "code",
      "execution_count": null,
      "metadata": {
        "id": "9E8OnrccZqN0"
      },
      "outputs": [],
      "source": [
        "sp = SparkSession.builder.appName('Practice').getOrCreate()"
      ]
    },
    {
      "cell_type": "code",
      "execution_count": null,
      "metadata": {
        "id": "yKox8vmhcNFX"
      },
      "outputs": [],
      "source": [
        "# files.upload()"
      ]
    },
    {
      "cell_type": "code",
      "execution_count": null,
      "metadata": {
        "colab": {
          "base_uri": "https://localhost:8080/"
        },
        "id": "2AiKDs6bZzO0",
        "outputId": "873b3d04-f3aa-4243-f4b3-d2d6bd25a539"
      },
      "outputs": [
        {
          "name": "stdout",
          "output_type": "stream",
          "text": [
            "+-----+--------+--------+--------+\n",
            "|Label|Feature1|Feature2|Feature3|\n",
            "+-----+--------+--------+--------+\n",
            "|  0.0|     1.0|     1.0|     0.0|\n",
            "|  1.0|     2.0|     1.0|     1.0|\n",
            "|  0.0|     3.0|     2.0|     0.0|\n",
            "|  1.0|     4.0|     2.0|     1.0|\n",
            "|  0.0|     5.0|     3.0|     0.0|\n",
            "|  1.0|     6.0|     3.0|     1.0|\n",
            "+-----+--------+--------+--------+\n",
            "\n"
          ]
        }
      ],
      "source": [
        "data = [\n",
        "    (0.0, 1.0, 1.0, 0.0),\n",
        "    (1.0, 2.0, 1.0, 1.0),\n",
        "    (0.0, 3.0, 2.0, 0.0),\n",
        "    (1.0, 4.0, 2.0, 1.0),\n",
        "    (0.0, 5.0, 3.0, 0.0),\n",
        "    (1.0, 6.0, 3.0, 1.0)\n",
        "]\n",
        "columns = [\"Label\", \"Feature1\", \"Feature2\", \"Feature3\"]\n",
        "df = sp.createDataFrame(data, columns)\n",
        "df.show()"
      ]
    },
    {
      "cell_type": "code",
      "execution_count": null,
      "metadata": {
        "id": "sZDLe4lMc5Hu"
      },
      "outputs": [],
      "source": [
        "assembler = VectorAssembler(inputCols=[\"Feature1\", \"Feature2\", \"Feature3\"], outputCol=\"features\")"
      ]
    },
    {
      "cell_type": "code",
      "execution_count": null,
      "metadata": {
        "colab": {
          "base_uri": "https://localhost:8080/"
        },
        "id": "Pyr4M_7_em_D",
        "outputId": "d084be05-d2de-4ee1-da7f-92f3279c9a0b"
      },
      "outputs": [
        {
          "name": "stdout",
          "output_type": "stream",
          "text": [
            "+-----+--------+--------+--------+-------------+\n",
            "|Label|Feature1|Feature2|Feature3|     features|\n",
            "+-----+--------+--------+--------+-------------+\n",
            "|  0.0|     1.0|     1.0|     0.0|[1.0,1.0,0.0]|\n",
            "|  1.0|     2.0|     1.0|     1.0|[2.0,1.0,1.0]|\n",
            "|  0.0|     3.0|     2.0|     0.0|[3.0,2.0,0.0]|\n",
            "|  1.0|     4.0|     2.0|     1.0|[4.0,2.0,1.0]|\n",
            "|  0.0|     5.0|     3.0|     0.0|[5.0,3.0,0.0]|\n",
            "|  1.0|     6.0|     3.0|     1.0|[6.0,3.0,1.0]|\n",
            "+-----+--------+--------+--------+-------------+\n",
            "\n"
          ]
        }
      ],
      "source": [
        "assembled_data = assembler.transform(df)"
      ]
    },
    {
      "cell_type": "code",
      "execution_count": null,
      "metadata": {
        "id": "cgn5XmKVe7IX"
      },
      "outputs": [],
      "source": [
        "lr = LogisticRegression(featuresCol='features', labelCol='Label')"
      ]
    },
    {
      "cell_type": "code",
      "execution_count": null,
      "metadata": {
        "id": "m_poTuQ3iejj"
      },
      "outputs": [],
      "source": [
        "lr_model = lr.fit(assembled_data)"
      ]
    },
    {
      "cell_type": "code",
      "execution_count": null,
      "metadata": {
        "colab": {
          "base_uri": "https://localhost:8080/"
        },
        "id": "Pq_tJXore8_E",
        "outputId": "23f2b6d8-187c-4549-c09f-dfda6dbe18d7"
      },
      "outputs": [
        {
          "data": {
            "text/plain": [
              "DenseVector([1.6449, -3.2072, 36.2958])"
            ]
          },
          "execution_count": 29,
          "metadata": {},
          "output_type": "execute_result"
        }
      ],
      "source": [
        "lr_model.coefficients"
      ]
    },
    {
      "cell_type": "code",
      "execution_count": null,
      "metadata": {
        "colab": {
          "base_uri": "https://localhost:8080/"
        },
        "id": "9U5bopKifFeR",
        "outputId": "9c21bf33-3fbf-4386-d765-0687e0aa5afc"
      },
      "outputs": [
        {
          "data": {
            "text/plain": [
              "-17.49083298237878"
            ]
          },
          "execution_count": 30,
          "metadata": {},
          "output_type": "execute_result"
        }
      ],
      "source": [
        "lr_model.intercept"
      ]
    },
    {
      "cell_type": "code",
      "execution_count": null,
      "metadata": {
        "id": "YkQQVRakaTWX"
      },
      "outputs": [],
      "source": [
        "predictions = lr_model.transform(assembled_data)"
      ]
    },
    {
      "cell_type": "code",
      "execution_count": null,
      "metadata": {
        "colab": {
          "base_uri": "https://localhost:8080/"
        },
        "id": "-NPcuWb-cv_A",
        "outputId": "c73211d5-594d-4cb5-94b5-5606c831d557"
      },
      "outputs": [
        {
          "name": "stdout",
          "output_type": "stream",
          "text": [
            "+-----+----------+-----------------------------------------+\n",
            "|Label|prediction|probability                              |\n",
            "+-----+----------+-----------------------------------------+\n",
            "|0.0  |0.0       |[0.9999999946868134,5.313186557387439E-9]|\n",
            "|1.0  |1.0       |[6.268752659147127E-9,0.9999999937312474]|\n",
            "|0.0  |0.0       |[0.9999999942287736,5.771226385675732E-9]|\n",
            "|1.0  |1.0       |[5.77122624986663E-9,0.9999999942287737] |\n",
            "|0.0  |0.0       |[0.9999999937312471,6.268752850147052E-9]|\n",
            "|1.0  |1.0       |[5.313186567862795E-9,0.9999999946868134]|\n",
            "+-----+----------+-----------------------------------------+\n",
            "\n"
          ]
        }
      ],
      "source": [
        "predictions.select(\"Label\", \"prediction\", \"probability\").show(truncate=False)"
      ]
    },
    {
      "cell_type": "code",
      "execution_count": null,
      "metadata": {
        "id": "--jX4MhZbV92"
      },
      "outputs": [],
      "source": [
        "pipe = Pipeline(stages=[assembler, lr])"
      ]
    },
    {
      "cell_type": "code",
      "execution_count": null,
      "metadata": {
        "id": "ru0l0vHnaUNU"
      },
      "outputs": [],
      "source": [
        "ppmodel = pipe.fit(df)"
      ]
    },
    {
      "cell_type": "code",
      "execution_count": null,
      "metadata": {
        "id": "JhKpKQWKjyyx"
      },
      "outputs": [],
      "source": [
        "predict = ppmodel.transform(df)"
      ]
    },
    {
      "cell_type": "code",
      "execution_count": null,
      "metadata": {
        "colab": {
          "base_uri": "https://localhost:8080/"
        },
        "id": "Ip94fgpFj7lu",
        "outputId": "68ff981d-f9e2-400d-e277-f9b46a9ffa70"
      },
      "outputs": [
        {
          "name": "stdout",
          "output_type": "stream",
          "text": [
            "+-----+--------+--------+--------+-------------+----------------------------------------+-----------------------------------------+----------+\n",
            "|Label|Feature1|Feature2|Feature3|features     |rawPrediction                           |probability                              |prediction|\n",
            "+-----+--------+--------+--------+-------------+----------------------------------------+-----------------------------------------+----------+\n",
            "|0.0  |1.0     |1.0     |0.0     |[1.0,1.0,0.0]|[19.053074058278817,-19.053074058278817]|[0.9999999946868134,5.313186557387439E-9]|0.0       |\n",
            "|1.0  |2.0     |1.0     |1.0     |[2.0,1.0,1.0]|[-18.887688433758672,18.887688433758672]|[6.268752659147127E-9,0.9999999937312474]|1.0       |\n",
            "|0.0  |3.0     |2.0     |0.0     |[3.0,2.0,0.0]|[18.97038124044345,-18.97038124044345]  |[0.9999999942287736,5.771226385675732E-9]|0.0       |\n",
            "|1.0  |4.0     |2.0     |1.0     |[4.0,2.0,1.0]|[-18.970381251594038,18.970381251594038]|[5.77122624986663E-9,0.9999999942287737] |1.0       |\n",
            "|0.0  |5.0     |3.0     |0.0     |[5.0,3.0,0.0]|[18.887688422608086,-18.887688422608086]|[0.9999999937312471,6.268752850147052E-9]|0.0       |\n",
            "|1.0  |6.0     |3.0     |1.0     |[6.0,3.0,1.0]|[-19.053074069429396,19.053074069429396]|[5.313186567862795E-9,0.9999999946868134]|1.0       |\n",
            "+-----+--------+--------+--------+-------------+----------------------------------------+-----------------------------------------+----------+\n",
            "\n"
          ]
        }
      ],
      "source": [
        "predict.show(truncate=False)"
      ]
    },
    {
      "cell_type": "code",
      "execution_count": null,
      "metadata": {
        "id": "xV_6ggqWpncd"
      },
      "outputs": [],
      "source": [
        "pipe.write().overwrite().save(\"pipe_model\")"
      ]
    },
    {
      "cell_type": "code",
      "execution_count": null,
      "metadata": {
        "id": "ObY494z0qDz7"
      },
      "outputs": [],
      "source": [
        " ppl= Pipeline.load('pipe_model')"
      ]
    },
    {
      "cell_type": "code",
      "execution_count": null,
      "metadata": {
        "id": "Wpw_Kw7XqOs_"
      },
      "outputs": [],
      "source": [
        " ppl_model = ppl.fit(df)"
      ]
    },
    {
      "cell_type": "code",
      "execution_count": null,
      "metadata": {
        "id": "pdWcemR7qiaw"
      },
      "outputs": [],
      "source": [
        "pred = ppl_model.transform(df)"
      ]
    },
    {
      "cell_type": "code",
      "execution_count": null,
      "metadata": {
        "colab": {
          "base_uri": "https://localhost:8080/"
        },
        "id": "Bzad1BmqqzVF",
        "outputId": "f8079ca2-80f8-4dc1-ef90-de7864102752"
      },
      "outputs": [
        {
          "name": "stdout",
          "output_type": "stream",
          "text": [
            "+-----+--------+--------+--------+-------------+----------------------------------------+-----------------------------------------+----------+\n",
            "|Label|Feature1|Feature2|Feature3|features     |rawPrediction                           |probability                              |prediction|\n",
            "+-----+--------+--------+--------+-------------+----------------------------------------+-----------------------------------------+----------+\n",
            "|0.0  |1.0     |1.0     |0.0     |[1.0,1.0,0.0]|[19.053074058278817,-19.053074058278817]|[0.9999999946868134,5.313186557387439E-9]|0.0       |\n",
            "|1.0  |2.0     |1.0     |1.0     |[2.0,1.0,1.0]|[-18.887688433758672,18.887688433758672]|[6.268752659147127E-9,0.9999999937312474]|1.0       |\n",
            "|0.0  |3.0     |2.0     |0.0     |[3.0,2.0,0.0]|[18.97038124044345,-18.97038124044345]  |[0.9999999942287736,5.771226385675732E-9]|0.0       |\n",
            "|1.0  |4.0     |2.0     |1.0     |[4.0,2.0,1.0]|[-18.970381251594038,18.970381251594038]|[5.77122624986663E-9,0.9999999942287737] |1.0       |\n",
            "|0.0  |5.0     |3.0     |0.0     |[5.0,3.0,0.0]|[18.887688422608086,-18.887688422608086]|[0.9999999937312471,6.268752850147052E-9]|0.0       |\n",
            "|1.0  |6.0     |3.0     |1.0     |[6.0,3.0,1.0]|[-19.053074069429396,19.053074069429396]|[5.313186567862795E-9,0.9999999946868134]|1.0       |\n",
            "+-----+--------+--------+--------+-------------+----------------------------------------+-----------------------------------------+----------+\n",
            "\n"
          ]
        }
      ],
      "source": [
        "pred.show(truncate=False)"
      ]
    },
    {
      "cell_type": "code",
      "execution_count": null,
      "metadata": {
        "id": "4uPZKjLan26M"
      },
      "outputs": [],
      "source": [
        "# files.upload()"
      ]
    },
    {
      "cell_type": "code",
      "execution_count": null,
      "metadata": {
        "id": "-K5ntXFzn7RR"
      },
      "outputs": [],
      "source": [
        "data = sp.read.csv('data.csv', header=True, inferSchema=True)"
      ]
    },
    {
      "cell_type": "code",
      "execution_count": null,
      "metadata": {
        "id": "zdt3axQsoEko"
      },
      "outputs": [],
      "source": [
        "when(column != value, column).otherwise(lit(None))"
      ]
    },
    {
      "cell_type": "code",
      "execution_count": null,
      "metadata": {
        "id": "ytZKbmMnne0w"
      },
      "outputs": [],
      "source": [
        "def replace(column, value):\n",
        "    return when(column != value, column).otherwise(lit(None))"
      ]
    },
    {
      "cell_type": "code",
      "execution_count": null,
      "metadata": {
        "id": "G3SxdsmMnnUq"
      },
      "outputs": [],
      "source": [
        "data = data.withColumn('Market Category', replace(col('Market Category'), 'N/A'))"
      ]
    },
    {
      "cell_type": "code",
      "execution_count": null,
      "metadata": {
        "colab": {
          "base_uri": "https://localhost:8080/"
        },
        "id": "8KwgoRhroLSU",
        "outputId": "40ac1e85-0bfe-4217-eb00-d21aa9186245"
      },
      "outputs": [
        {
          "name": "stdout",
          "output_type": "stream",
          "text": [
            "+----+----------+----+--------------------+---------+----------------+-----------------+-----------------+---------------+--------------------+------------+-------------+-----------+--------+----------+-----+\n",
            "|Make|     Model|Year|    Engine Fuel Type|Engine HP|Engine Cylinders|Transmission Type|    Driven_Wheels|Number of Doors|     Market Category|Vehicle Size|Vehicle Style|highway MPG|city mpg|Popularity| MSRP|\n",
            "+----+----------+----+--------------------+---------+----------------+-----------------+-----------------+---------------+--------------------+------------+-------------+-----------+--------+----------+-----+\n",
            "| BMW|1 Series M|2011|premium unleaded ...|      335|               6|           MANUAL| rear wheel drive|              2|Factory Tuner,Lux...|     Compact|        Coupe|         26|      19|      3916|46135|\n",
            "| BMW|  1 Series|2011|premium unleaded ...|      300|               6|           MANUAL| rear wheel drive|              2|  Luxury,Performance|     Compact|  Convertible|         28|      19|      3916|40650|\n",
            "| BMW|  1 Series|2011|premium unleaded ...|      300|               6|           MANUAL| rear wheel drive|              2|Luxury,High-Perfo...|     Compact|        Coupe|         28|      20|      3916|36350|\n",
            "| BMW|  1 Series|2011|premium unleaded ...|      230|               6|           MANUAL| rear wheel drive|              2|  Luxury,Performance|     Compact|        Coupe|         28|      18|      3916|29450|\n",
            "| BMW|  1 Series|2011|premium unleaded ...|      230|               6|           MANUAL| rear wheel drive|              2|              Luxury|     Compact|  Convertible|         28|      18|      3916|34500|\n",
            "| BMW|  1 Series|2012|premium unleaded ...|      230|               6|           MANUAL| rear wheel drive|              2|  Luxury,Performance|     Compact|        Coupe|         28|      18|      3916|31200|\n",
            "| BMW|  1 Series|2012|premium unleaded ...|      300|               6|           MANUAL| rear wheel drive|              2|  Luxury,Performance|     Compact|  Convertible|         26|      17|      3916|44100|\n",
            "| BMW|  1 Series|2012|premium unleaded ...|      300|               6|           MANUAL| rear wheel drive|              2|Luxury,High-Perfo...|     Compact|        Coupe|         28|      20|      3916|39300|\n",
            "| BMW|  1 Series|2012|premium unleaded ...|      230|               6|           MANUAL| rear wheel drive|              2|              Luxury|     Compact|  Convertible|         28|      18|      3916|36900|\n",
            "| BMW|  1 Series|2013|premium unleaded ...|      230|               6|           MANUAL| rear wheel drive|              2|              Luxury|     Compact|  Convertible|         27|      18|      3916|37200|\n",
            "| BMW|  1 Series|2013|premium unleaded ...|      300|               6|           MANUAL| rear wheel drive|              2|Luxury,High-Perfo...|     Compact|        Coupe|         28|      20|      3916|39600|\n",
            "| BMW|  1 Series|2013|premium unleaded ...|      230|               6|           MANUAL| rear wheel drive|              2|  Luxury,Performance|     Compact|        Coupe|         28|      19|      3916|31500|\n",
            "| BMW|  1 Series|2013|premium unleaded ...|      300|               6|           MANUAL| rear wheel drive|              2|  Luxury,Performance|     Compact|  Convertible|         28|      19|      3916|44400|\n",
            "| BMW|  1 Series|2013|premium unleaded ...|      230|               6|           MANUAL| rear wheel drive|              2|              Luxury|     Compact|  Convertible|         28|      19|      3916|37200|\n",
            "| BMW|  1 Series|2013|premium unleaded ...|      230|               6|           MANUAL| rear wheel drive|              2|  Luxury,Performance|     Compact|        Coupe|         28|      19|      3916|31500|\n",
            "| BMW|  1 Series|2013|premium unleaded ...|      320|               6|           MANUAL| rear wheel drive|              2|Luxury,High-Perfo...|     Compact|  Convertible|         25|      18|      3916|48250|\n",
            "| BMW|  1 Series|2013|premium unleaded ...|      320|               6|           MANUAL| rear wheel drive|              2|Luxury,High-Perfo...|     Compact|        Coupe|         28|      20|      3916|43550|\n",
            "|Audi|       100|1992|    regular unleaded|      172|               6|           MANUAL|front wheel drive|              4|              Luxury|     Midsize|        Sedan|         24|      17|      3105| 2000|\n",
            "|Audi|       100|1992|    regular unleaded|      172|               6|           MANUAL|front wheel drive|              4|              Luxury|     Midsize|        Sedan|         24|      17|      3105| 2000|\n",
            "|Audi|       100|1992|    regular unleaded|      172|               6|        AUTOMATIC|  all wheel drive|              4|              Luxury|     Midsize|        Wagon|         20|      16|      3105| 2000|\n",
            "+----+----------+----+--------------------+---------+----------------+-----------------+-----------------+---------------+--------------------+------------+-------------+-----------+--------+----------+-----+\n",
            "only showing top 20 rows\n",
            "\n"
          ]
        }
      ],
      "source": [
        "data.select([c for c in data.columns]).show()\n"
      ]
    },
    {
      "cell_type": "code",
      "execution_count": null,
      "metadata": {
        "id": "KtQpP73fnpyA"
      },
      "outputs": [],
      "source": [
        "data.select([count(when(isnan(c) | col(c).isNull(), c)).alias(c) for c in data.columns]).show()"
      ]
    },
    {
      "cell_type": "code",
      "execution_count": null,
      "metadata": {
        "id": "WG3ZeUqansA9"
      },
      "outputs": [],
      "source": [
        "data = data.drop(“Market Category”)"
      ]
    },
    {
      "cell_type": "code",
      "execution_count": null,
      "metadata": {
        "id": "DrN-MVp5nubH"
      },
      "outputs": [],
      "source": [
        "data = data.na.drop()"
      ]
    },
    {
      "cell_type": "code",
      "execution_count": null,
      "metadata": {
        "id": "0vxq2wPEnysH"
      },
      "outputs": [],
      "source": [
        "print((data.count(), len(data.columns)))"
      ]
    },
    {
      "cell_type": "code",
      "execution_count": null,
      "metadata": {
        "colab": {
          "base_uri": "https://localhost:8080/"
        },
        "id": "Jbc17Xt84Amt",
        "outputId": "0293ac35-6cb9-4797-c2ca-472e36135338"
      },
      "outputs": [
        {
          "name": "stdout",
          "output_type": "stream",
          "text": [
            "+--------+--------+-----+---------+-------------+-----------+----------+\n",
            "|Feature1|Feature2|Label| features|rawPrediction|probability|prediction|\n",
            "+--------+--------+-----+---------+-------------+-----------+----------+\n",
            "|     3.0|     4.0|    1|[3.0,4.0]|   [-0.0,0.0]|  [0.5,0.5]|       0.0|\n",
            "+--------+--------+-----+---------+-------------+-----------+----------+\n",
            "\n",
            "Area Under ROC: 1.0\n",
            "Area Under Precision-Recall: 1.0\n"
          ]
        }
      ],
      "source": [
        "from pyspark.sql import SparkSession\n",
        "from pyspark.ml.classification import LogisticRegression\n",
        "from pyspark.ml.feature import VectorAssembler\n",
        "from pyspark.ml.evaluation import BinaryClassificationEvaluator\n",
        "\n",
        "# Initialize SparkSession\n",
        "spark = SparkSession.builder.appName(\"LogisticRegressionExample\").getOrCreate()\n",
        "\n",
        "# Sample Data\n",
        "data = [\n",
        "    (1.0, 2.0, 1),\n",
        "    (2.0, 3.0, 0),\n",
        "    (3.0, 4.0, 1),\n",
        "    (4.0, 5.0, 0),\n",
        "    (5.0, 6.0, 1)\n",
        "]\n",
        "columns = [\"Feature1\", \"Feature2\", \"Label\"]\n",
        "df = spark.createDataFrame(data, columns)\n",
        "\n",
        "# Assemble Features\n",
        "assembler = VectorAssembler(inputCols=[\"Feature1\", \"Feature2\"], outputCol=\"features\")\n",
        "assembled_data = assembler.transform(df)\n",
        "\n",
        "# Split Data\n",
        "train_data, test_data = assembled_data.randomSplit([0.7, 0.3], seed=42)\n",
        "\n",
        "# Logistic Regression Model\n",
        "lr = LogisticRegression(featuresCol='features', labelCol='Label')\n",
        "lr_model = lr.fit(train_data)\n",
        "\n",
        "# Predictions\n",
        "predictions = lr_model.transform(test_data)\n",
        "predictions.show()\n",
        "\n",
        "# Evaluation\n",
        "evaluator = BinaryClassificationEvaluator(rawPredictionCol=\"rawPrediction\", labelCol=\"Label\", metricName=\"areaUnderROC\")\n",
        "auc = evaluator.evaluate(predictions)\n",
        "print(f\"Area Under ROC: {auc}\")\n",
        "\n",
        "\n",
        "evaluator_pr = BinaryClassificationEvaluator(rawPredictionCol=\"rawPrediction\", labelCol=\"Label\", metricName=\"areaUnderPR\")\n",
        "pr = evaluator_pr.evaluate(predictions)\n",
        "print(f\"Area Under Precision-Recall: {pr}\")\n",
        "\n"
      ]
    },
    {
      "cell_type": "code",
      "execution_count": null,
      "metadata": {
        "id": "4bYOf72ztf_V"
      },
      "outputs": [],
      "source": [
        "import torch\n",
        "import torch.nn as nn\n",
        "from torch.optim import Adam"
      ]
    },
    {
      "cell_type": "code",
      "execution_count": null,
      "metadata": {
        "id": "QFkxynS4xCte"
      },
      "outputs": [],
      "source": [
        "import os"
      ]
    },
    {
      "cell_type": "code",
      "execution_count": null,
      "metadata": {
        "id": "r04Nonc0xAGP"
      },
      "outputs": [],
      "source": [
        "os.environ[\"MASTER_ADDR\"] = \"localhost\"  # Set to your machine's IP if running on a cluster\n",
        "os.environ[\"MASTER_PORT\"] = \"12345\""
      ]
    },
    {
      "cell_type": "code",
      "execution_count": null,
      "metadata": {
        "colab": {
          "background_save": true
        },
        "id": "A7GXNewkuw6n",
        "outputId": "e99cc562-65f4-48ef-b377-2727649ee187"
      },
      "outputs": [
        {
          "ename": "DistNetworkError",
          "evalue": "The client socket has timed out after 1800s while trying to connect to (localhost, 12345).",
          "output_type": "error",
          "traceback": [
            "\u001b[0;31m---------------------------------------------------------------------------\u001b[0m",
            "\u001b[0;31mDistNetworkError\u001b[0m                          Traceback (most recent call last)",
            "\u001b[0;32m<ipython-input-14-40baab6a3c25>\u001b[0m in \u001b[0;36m<cell line: 1>\u001b[0;34m()\u001b[0m\n\u001b[0;32m----> 1\u001b[0;31m \u001b[0mtorch\u001b[0m\u001b[0;34m.\u001b[0m\u001b[0mdistributed\u001b[0m\u001b[0;34m.\u001b[0m\u001b[0minit_process_group\u001b[0m\u001b[0;34m(\u001b[0m\u001b[0;34m\"gloo\"\u001b[0m\u001b[0;34m,\u001b[0m \u001b[0mrank\u001b[0m\u001b[0;34m=\u001b[0m\u001b[0;36m1\u001b[0m\u001b[0;34m,\u001b[0m \u001b[0mworld_size\u001b[0m\u001b[0;34m=\u001b[0m\u001b[0;36m2\u001b[0m\u001b[0;34m)\u001b[0m\u001b[0;34m\u001b[0m\u001b[0;34m\u001b[0m\u001b[0m\n\u001b[0m\u001b[1;32m      2\u001b[0m \u001b[0mtorch\u001b[0m\u001b[0;34m.\u001b[0m\u001b[0mcuda\u001b[0m\u001b[0;34m.\u001b[0m\u001b[0mset_device\u001b[0m\u001b[0;34m(\u001b[0m\u001b[0;36m1\u001b[0m\u001b[0;34m)\u001b[0m\u001b[0;34m\u001b[0m\u001b[0;34m\u001b[0m\u001b[0m\n",
            "\u001b[0;32m/usr/local/lib/python3.10/dist-packages/torch/distributed/c10d_logger.py\u001b[0m in \u001b[0;36mwrapper\u001b[0;34m(*args, **kwargs)\u001b[0m\n\u001b[1;32m     77\u001b[0m     \u001b[0;32mdef\u001b[0m \u001b[0mwrapper\u001b[0m\u001b[0;34m(\u001b[0m\u001b[0;34m*\u001b[0m\u001b[0margs\u001b[0m\u001b[0;34m:\u001b[0m \u001b[0m_P\u001b[0m\u001b[0;34m.\u001b[0m\u001b[0margs\u001b[0m\u001b[0;34m,\u001b[0m \u001b[0;34m**\u001b[0m\u001b[0mkwargs\u001b[0m\u001b[0;34m:\u001b[0m \u001b[0m_P\u001b[0m\u001b[0;34m.\u001b[0m\u001b[0mkwargs\u001b[0m\u001b[0;34m)\u001b[0m \u001b[0;34m->\u001b[0m \u001b[0m_T\u001b[0m\u001b[0;34m:\u001b[0m\u001b[0;34m\u001b[0m\u001b[0;34m\u001b[0m\u001b[0m\n\u001b[1;32m     78\u001b[0m         \u001b[0;32mtry\u001b[0m\u001b[0;34m:\u001b[0m\u001b[0;34m\u001b[0m\u001b[0;34m\u001b[0m\u001b[0m\n\u001b[0;32m---> 79\u001b[0;31m             \u001b[0;32mreturn\u001b[0m \u001b[0mfunc\u001b[0m\u001b[0;34m(\u001b[0m\u001b[0;34m*\u001b[0m\u001b[0margs\u001b[0m\u001b[0;34m,\u001b[0m \u001b[0;34m**\u001b[0m\u001b[0mkwargs\u001b[0m\u001b[0;34m)\u001b[0m\u001b[0;34m\u001b[0m\u001b[0;34m\u001b[0m\u001b[0m\n\u001b[0m\u001b[1;32m     80\u001b[0m         \u001b[0;32mexcept\u001b[0m \u001b[0mException\u001b[0m \u001b[0;32mas\u001b[0m \u001b[0merror\u001b[0m\u001b[0;34m:\u001b[0m\u001b[0;34m\u001b[0m\u001b[0;34m\u001b[0m\u001b[0m\n\u001b[1;32m     81\u001b[0m             \u001b[0mmsg_dict\u001b[0m \u001b[0;34m=\u001b[0m \u001b[0m_get_msg_dict\u001b[0m\u001b[0;34m(\u001b[0m\u001b[0mfunc\u001b[0m\u001b[0;34m.\u001b[0m\u001b[0m__name__\u001b[0m\u001b[0;34m,\u001b[0m \u001b[0;34m*\u001b[0m\u001b[0margs\u001b[0m\u001b[0;34m,\u001b[0m \u001b[0;34m**\u001b[0m\u001b[0mkwargs\u001b[0m\u001b[0;34m)\u001b[0m\u001b[0;34m\u001b[0m\u001b[0;34m\u001b[0m\u001b[0m\n",
            "\u001b[0;32m/usr/local/lib/python3.10/dist-packages/torch/distributed/c10d_logger.py\u001b[0m in \u001b[0;36mwrapper\u001b[0;34m(*args, **kwargs)\u001b[0m\n\u001b[1;32m     91\u001b[0m     \u001b[0;32mdef\u001b[0m \u001b[0mwrapper\u001b[0m\u001b[0;34m(\u001b[0m\u001b[0;34m*\u001b[0m\u001b[0margs\u001b[0m\u001b[0;34m:\u001b[0m \u001b[0m_P\u001b[0m\u001b[0;34m.\u001b[0m\u001b[0margs\u001b[0m\u001b[0;34m,\u001b[0m \u001b[0;34m**\u001b[0m\u001b[0mkwargs\u001b[0m\u001b[0;34m:\u001b[0m \u001b[0m_P\u001b[0m\u001b[0;34m.\u001b[0m\u001b[0mkwargs\u001b[0m\u001b[0;34m)\u001b[0m \u001b[0;34m->\u001b[0m \u001b[0m_T\u001b[0m\u001b[0;34m:\u001b[0m\u001b[0;34m\u001b[0m\u001b[0;34m\u001b[0m\u001b[0m\n\u001b[1;32m     92\u001b[0m         \u001b[0mt1\u001b[0m \u001b[0;34m=\u001b[0m \u001b[0mtime\u001b[0m\u001b[0;34m.\u001b[0m\u001b[0mtime_ns\u001b[0m\u001b[0;34m(\u001b[0m\u001b[0;34m)\u001b[0m\u001b[0;34m\u001b[0m\u001b[0;34m\u001b[0m\u001b[0m\n\u001b[0;32m---> 93\u001b[0;31m         \u001b[0mfunc_return\u001b[0m \u001b[0;34m=\u001b[0m \u001b[0mfunc\u001b[0m\u001b[0;34m(\u001b[0m\u001b[0;34m*\u001b[0m\u001b[0margs\u001b[0m\u001b[0;34m,\u001b[0m \u001b[0;34m**\u001b[0m\u001b[0mkwargs\u001b[0m\u001b[0;34m)\u001b[0m\u001b[0;34m\u001b[0m\u001b[0;34m\u001b[0m\u001b[0m\n\u001b[0m\u001b[1;32m     94\u001b[0m         \u001b[0mtime_spent\u001b[0m \u001b[0;34m=\u001b[0m \u001b[0mtime\u001b[0m\u001b[0;34m.\u001b[0m\u001b[0mtime_ns\u001b[0m\u001b[0;34m(\u001b[0m\u001b[0;34m)\u001b[0m \u001b[0;34m-\u001b[0m \u001b[0mt1\u001b[0m\u001b[0;34m\u001b[0m\u001b[0;34m\u001b[0m\u001b[0m\n\u001b[1;32m     95\u001b[0m \u001b[0;34m\u001b[0m\u001b[0m\n",
            "\u001b[0;32m/usr/local/lib/python3.10/dist-packages/torch/distributed/distributed_c10d.py\u001b[0m in \u001b[0;36minit_process_group\u001b[0;34m(backend, init_method, timeout, world_size, rank, store, group_name, pg_options, device_id)\u001b[0m\n\u001b[1;32m   1359\u001b[0m                 \u001b[0mnot_none\u001b[0m\u001b[0;34m(\u001b[0m\u001b[0minit_method\u001b[0m\u001b[0;34m)\u001b[0m\u001b[0;34m,\u001b[0m \u001b[0mrank\u001b[0m\u001b[0;34m,\u001b[0m \u001b[0mworld_size\u001b[0m\u001b[0;34m,\u001b[0m \u001b[0mtimeout\u001b[0m\u001b[0;34m=\u001b[0m\u001b[0mtimeout\u001b[0m\u001b[0;34m\u001b[0m\u001b[0;34m\u001b[0m\u001b[0m\n\u001b[1;32m   1360\u001b[0m             )\n\u001b[0;32m-> 1361\u001b[0;31m             \u001b[0mstore\u001b[0m\u001b[0;34m,\u001b[0m \u001b[0mrank\u001b[0m\u001b[0;34m,\u001b[0m \u001b[0mworld_size\u001b[0m \u001b[0;34m=\u001b[0m \u001b[0mnext\u001b[0m\u001b[0;34m(\u001b[0m\u001b[0mrendezvous_iterator\u001b[0m\u001b[0;34m)\u001b[0m\u001b[0;34m\u001b[0m\u001b[0;34m\u001b[0m\u001b[0m\n\u001b[0m\u001b[1;32m   1362\u001b[0m             \u001b[0mstore\u001b[0m\u001b[0;34m.\u001b[0m\u001b[0mset_timeout\u001b[0m\u001b[0;34m(\u001b[0m\u001b[0mtimeout\u001b[0m\u001b[0;34m)\u001b[0m\u001b[0;34m\u001b[0m\u001b[0;34m\u001b[0m\u001b[0m\n\u001b[1;32m   1363\u001b[0m \u001b[0;34m\u001b[0m\u001b[0m\n",
            "\u001b[0;32m/usr/local/lib/python3.10/dist-packages/torch/distributed/rendezvous.py\u001b[0m in \u001b[0;36m_env_rendezvous_handler\u001b[0;34m(url, timeout, **kwargs)\u001b[0m\n\u001b[1;32m    256\u001b[0m     \u001b[0muse_libuv\u001b[0m \u001b[0;34m=\u001b[0m \u001b[0m_get_use_libuv_from_query_dict\u001b[0m\u001b[0;34m(\u001b[0m\u001b[0mquery_dict\u001b[0m\u001b[0;34m)\u001b[0m\u001b[0;34m\u001b[0m\u001b[0;34m\u001b[0m\u001b[0m\n\u001b[1;32m    257\u001b[0m \u001b[0;34m\u001b[0m\u001b[0m\n\u001b[0;32m--> 258\u001b[0;31m     \u001b[0mstore\u001b[0m \u001b[0;34m=\u001b[0m \u001b[0m_create_c10d_store\u001b[0m\u001b[0;34m(\u001b[0m\u001b[0mmaster_addr\u001b[0m\u001b[0;34m,\u001b[0m \u001b[0mmaster_port\u001b[0m\u001b[0;34m,\u001b[0m \u001b[0mrank\u001b[0m\u001b[0;34m,\u001b[0m \u001b[0mworld_size\u001b[0m\u001b[0;34m,\u001b[0m \u001b[0mtimeout\u001b[0m\u001b[0;34m,\u001b[0m \u001b[0muse_libuv\u001b[0m\u001b[0;34m)\u001b[0m\u001b[0;34m\u001b[0m\u001b[0;34m\u001b[0m\u001b[0m\n\u001b[0m\u001b[1;32m    259\u001b[0m \u001b[0;34m\u001b[0m\u001b[0m\n\u001b[1;32m    260\u001b[0m     \u001b[0;32myield\u001b[0m \u001b[0;34m(\u001b[0m\u001b[0mstore\u001b[0m\u001b[0;34m,\u001b[0m \u001b[0mrank\u001b[0m\u001b[0;34m,\u001b[0m \u001b[0mworld_size\u001b[0m\u001b[0;34m)\u001b[0m\u001b[0;34m\u001b[0m\u001b[0;34m\u001b[0m\u001b[0m\n",
            "\u001b[0;32m/usr/local/lib/python3.10/dist-packages/torch/distributed/rendezvous.py\u001b[0m in \u001b[0;36m_create_c10d_store\u001b[0;34m(hostname, port, rank, world_size, timeout, use_libuv)\u001b[0m\n\u001b[1;32m    183\u001b[0m     \u001b[0;32melse\u001b[0m\u001b[0;34m:\u001b[0m\u001b[0;34m\u001b[0m\u001b[0;34m\u001b[0m\u001b[0m\n\u001b[1;32m    184\u001b[0m         \u001b[0mstart_daemon\u001b[0m \u001b[0;34m=\u001b[0m \u001b[0mrank\u001b[0m \u001b[0;34m==\u001b[0m \u001b[0;36m0\u001b[0m\u001b[0;34m\u001b[0m\u001b[0;34m\u001b[0m\u001b[0m\n\u001b[0;32m--> 185\u001b[0;31m         return TCPStore(\n\u001b[0m\u001b[1;32m    186\u001b[0m             \u001b[0mhostname\u001b[0m\u001b[0;34m,\u001b[0m \u001b[0mport\u001b[0m\u001b[0;34m,\u001b[0m \u001b[0mworld_size\u001b[0m\u001b[0;34m,\u001b[0m \u001b[0mstart_daemon\u001b[0m\u001b[0;34m,\u001b[0m \u001b[0mtimeout\u001b[0m\u001b[0;34m,\u001b[0m \u001b[0mmulti_tenant\u001b[0m\u001b[0;34m=\u001b[0m\u001b[0;32mTrue\u001b[0m\u001b[0;34m,\u001b[0m \u001b[0muse_libuv\u001b[0m\u001b[0;34m=\u001b[0m\u001b[0muse_libuv\u001b[0m\u001b[0;34m\u001b[0m\u001b[0;34m\u001b[0m\u001b[0m\n\u001b[1;32m    187\u001b[0m         )\n",
            "\u001b[0;31mDistNetworkError\u001b[0m: The client socket has timed out after 1800s while trying to connect to (localhost, 12345)."
          ]
        }
      ],
      "source": [
        "torch.distributed.init_process_group(\"gloo\", rank=1, world_size=2)\n",
        "torch.cuda.set_device(1)\n"
      ]
    },
    {
      "cell_type": "code",
      "execution_count": null,
      "metadata": {
        "colab": {
          "base_uri": "https://localhost:8080/",
          "height": 219
        },
        "id": "48xz3lnvtS0g",
        "outputId": "6ae20129-e9d2-42b3-854f-09a802ef51db"
      },
      "outputs": [
        {
          "ename": "TypeError",
          "evalue": "TorchDistributor.__init__() got an unexpected keyword argument 'model'",
          "output_type": "error",
          "traceback": [
            "\u001b[0;31m---------------------------------------------------------------------------\u001b[0m",
            "\u001b[0;31mTypeError\u001b[0m                                 Traceback (most recent call last)",
            "\u001b[0;32m<ipython-input-4-eb6d0da6f748>\u001b[0m in \u001b[0;36m<cell line: 15>\u001b[0;34m()\u001b[0m\n\u001b[1;32m     13\u001b[0m \u001b[0moptimizer\u001b[0m \u001b[0;34m=\u001b[0m \u001b[0mAdam\u001b[0m\u001b[0;34m(\u001b[0m\u001b[0mmodel\u001b[0m\u001b[0;34m.\u001b[0m\u001b[0mparameters\u001b[0m\u001b[0;34m(\u001b[0m\u001b[0;34m)\u001b[0m\u001b[0;34m,\u001b[0m \u001b[0mlr\u001b[0m\u001b[0;34m=\u001b[0m\u001b[0;36m0.001\u001b[0m\u001b[0;34m)\u001b[0m\u001b[0;34m\u001b[0m\u001b[0;34m\u001b[0m\u001b[0m\n\u001b[1;32m     14\u001b[0m \u001b[0;34m\u001b[0m\u001b[0m\n\u001b[0;32m---> 15\u001b[0;31m \u001b[0mdistributor\u001b[0m \u001b[0;34m=\u001b[0m \u001b[0mTorchDistributor\u001b[0m\u001b[0;34m(\u001b[0m\u001b[0mmodel\u001b[0m\u001b[0;34m=\u001b[0m\u001b[0mmodel\u001b[0m\u001b[0;34m,\u001b[0m \u001b[0moptimizer\u001b[0m\u001b[0;34m=\u001b[0m\u001b[0moptimizer\u001b[0m\u001b[0;34m)\u001b[0m\u001b[0;34m\u001b[0m\u001b[0;34m\u001b[0m\u001b[0m\n\u001b[0m\u001b[1;32m     16\u001b[0m \u001b[0;34m\u001b[0m\u001b[0m\n\u001b[1;32m     17\u001b[0m \u001b[0mdistributor\u001b[0m\u001b[0;34m.\u001b[0m\u001b[0mtrain\u001b[0m\u001b[0;34m(\u001b[0m\u001b[0msp\u001b[0m\u001b[0;34m.\u001b[0m\u001b[0msparkContext\u001b[0m\u001b[0;34m,\u001b[0m \u001b[0mnum_epochs\u001b[0m\u001b[0;34m=\u001b[0m\u001b[0;36m10\u001b[0m\u001b[0;34m)\u001b[0m\u001b[0;34m\u001b[0m\u001b[0;34m\u001b[0m\u001b[0m\n",
            "\u001b[0;31mTypeError\u001b[0m: TorchDistributor.__init__() got an unexpected keyword argument 'model'"
          ]
        }
      ],
      "source": [
        "\n",
        "class SimpleModel(nn.Module):\n",
        "    def __init__(self):\n",
        "        super(SimpleModel, self).__init__()\n",
        "        self.fc1 = nn.Linear(784, 256)\n",
        "        self.fc2 = nn.Linear(256, 10)\n",
        "\n",
        "    def forward(self, x):\n",
        "        x = torch.relu(self.fc1(x))\n",
        "        x = self.fc2(x)\n",
        "        return x\n",
        "\n",
        "model = SimpleModel()\n",
        "optimizer = Adam(model.parameters(), lr=0.001)\n",
        "\n",
        "distributor = TorchDistributor(model=model, optimizer=optimizer)\n",
        "\n",
        "distributor.train(sp.sparkContext, num_epochs=10)\n"
      ]
    },
    {
      "cell_type": "code",
      "execution_count": null,
      "metadata": {
        "id": "PrMgzX09tvQv"
      },
      "outputs": [],
      "source": []
    }
  ],
  "metadata": {
    "colab": {
      "provenance": [],
      "authorship_tag": "ABX9TyN+Akw5MRWY/yB9qYfl7+7w",
      "include_colab_link": true
    },
    "kernelspec": {
      "display_name": "Python 3",
      "name": "python3"
    },
    "language_info": {
      "name": "python"
    }
  },
  "nbformat": 4,
  "nbformat_minor": 0
}